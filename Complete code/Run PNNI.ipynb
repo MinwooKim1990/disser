{
 "cells": [
  {
   "cell_type": "code",
   "execution_count": 1,
   "metadata": {},
   "outputs": [
    {
     "name": "stderr",
     "output_type": "stream",
     "text": [
      "2022-08-23 18:32:44.774797: I tensorflow/core/platform/cpu_feature_guard.cc:193] This TensorFlow binary is optimized with oneAPI Deep Neural Network Library (oneDNN) to use the following CPU instructions in performance-critical operations:  AVX2 AVX512F FMA\n",
      "To enable them in other operations, rebuild TensorFlow with the appropriate compiler flags.\n",
      "2022-08-23 18:32:45.513088: I tensorflow/core/common_runtime/gpu/gpu_device.cc:1532] Created device /job:localhost/replica:0/task:0/device:GPU:0 with 11063 MB memory:  -> device: 0, name: NVIDIA TITAN Xp, pci bus id: 0000:3e:00.0, compute capability: 6.1\n"
     ]
    },
    {
     "name": "stdout",
     "output_type": "stream",
     "text": [
      "Finish fitting\n",
      "Finish fitting\n"
     ]
    }
   ],
   "source": [
    "from sector_3 import I0\n",
    "from PNNI import*\n",
    "import matplotlib.pyplot as plt\n",
    "import numpy as np\n",
    "\n",
    "data = np.loadtxt('sec2.txt') # get the data from text\n",
    "values = data[:,4] # integrated value with Monte Carlo method\n",
    "arguments = data[:,:3] # fixed variables values\n",
    "\n",
    "\n",
    "#call PNNI class with parameter number of nodes, activation function(1=Sigmoid,0=Relu), number of networks \n",
    "#, Total number of dimensions, number of fixed dimensions, Integrand, fixed parameters\n",
    "pn=PNNI(500,0,2,6,3,I0,arguments,50000)\n",
    "#call PNNI function with parameter method (1=Tensorflow,0=Sklearn), normalised integrand (1=yes,0=no) , number of epoch\n",
    "a1=pn.get_result(1,1,100)"
   ]
  },
  {
   "cell_type": "code",
   "execution_count": 2,
   "metadata": {},
   "outputs": [],
   "source": [
    "def digit(analy,numeric): # get the correct digits\n",
    "    return -np.log10(abs((analy-numeric)/analy))\n",
    "\n",
    "norm_val=[]\n",
    "for i in range(len(values)):\n",
    "    norm_val.append(values[i]/(I0(np.array([1/2]*(3)),arguments[i,],[])))"
   ]
  },
  {
   "cell_type": "code",
   "execution_count": 7,
   "metadata": {},
   "outputs": [
    {
     "data": {
      "image/png": "[encoded data removed]",
      "text/plain": [
       "<Figure size 720x504 with 1 Axes>"
      ]
     },
     "metadata": {
      "needs_background": "light"
     },
     "output_type": "display_data"
    }
   ],
   "source": [
    "import matplotlib.pyplot as plt\n",
    "digits=digit(np.array(norm_val),a1)\n",
    "plt.figure(figsize=(10,7))\n",
    "plt.hist(digits,bins=50, density=True, alpha=0.5, label= 'individual correct digit')\n",
    "plt.axvline(x=np.median(digits))\n",
    "plt.grid(which='major', linestyle='-', linewidth='0.5', color='green',alpha=0.3)\n",
    "plt.grid(which='minor', linestyle=':', linewidth='0.5', color='black')\n",
    "plt.title(\"Correct digits\", fontsize=14)\n",
    "plt.xlabel('Correct digits')\n",
    "plt.ylabel('Accumulated number')\n",
    "plt.legend(loc='upper right')\n",
    "plt.xlim(0,5.7)\n",
    "plt.show()"
   ]
  },
  {
   "cell_type": "code",
   "execution_count": null,
   "metadata": {},
   "outputs": [],
   "source": []
  }
 ],
 "metadata": {
  "kernelspec": {
   "display_name": "mykernel",
   "language": "python",
   "name": "mykernel"
  },
  "language_info": {
   "codemirror_mode": {
    "name": "ipython",
    "version": 3
   },
   "file_extension": ".py",
   "mimetype": "text/x-python",
   "name": "python",
   "nbconvert_exporter": "python",
   "pygments_lexer": "ipython3",
   "version": "3.8.11"
  }
 },
 "nbformat": 4,
 "nbformat_minor": 4
}
